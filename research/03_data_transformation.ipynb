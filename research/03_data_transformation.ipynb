{
 "cells": [
  {
   "cell_type": "code",
   "execution_count": 1,
   "metadata": {},
   "outputs": [],
   "source": [
    "import os"
   ]
  },
  {
   "cell_type": "code",
   "execution_count": 2,
   "metadata": {},
   "outputs": [
    {
     "data": {
      "text/plain": [
       "'c:\\\\Users\\\\youne\\\\OneDrive\\\\Desktop\\\\End-to-End-Cardiovascular-Disease\\\\research'"
      ]
     },
     "execution_count": 2,
     "metadata": {},
     "output_type": "execute_result"
    }
   ],
   "source": [
    "%pwd"
   ]
  },
  {
   "cell_type": "code",
   "execution_count": 3,
   "metadata": {},
   "outputs": [],
   "source": [
    "os.chdir('../')"
   ]
  },
  {
   "cell_type": "code",
   "execution_count": 4,
   "metadata": {},
   "outputs": [],
   "source": [
    "from dataclasses import dataclass\n",
    "from pathlib import Path\n",
    "\n",
    "\n",
    "@dataclass(frozen=True)\n",
    "class DataTransformationConfig:\n",
    "    root_dir: Path\n",
    "    data_path: Path"
   ]
  },
  {
   "cell_type": "code",
   "execution_count": 5,
   "metadata": {},
   "outputs": [],
   "source": [
    "from Cardiovascular_Disease.constants import *\n",
    "from Cardiovascular_Disease.utils.common import read_yaml, create_directories"
   ]
  },
  {
   "cell_type": "code",
   "execution_count": 6,
   "metadata": {},
   "outputs": [],
   "source": [
    "class ConfigurationManager:\n",
    "    def __init__(\n",
    "        self,\n",
    "        config_filepath = CONFIG_FILE_PATH,\n",
    "        params_filepath = PARAMS_FILE_PATH,\n",
    "        schema_filepath = SCHEMA_FILE_PATH):\n",
    "\n",
    "        self.config = read_yaml(config_filepath)\n",
    "        self.params = read_yaml(params_filepath)\n",
    "        self.schema = read_yaml(schema_filepath)\n",
    "\n",
    "        create_directories([self.config.artifacts_root])\n",
    "\n",
    "\n",
    "    \n",
    "    def get_data_transformation_config(self) -> DataTransformationConfig:\n",
    "        config = self.config.data_transformation\n",
    "\n",
    "        create_directories([config.root_dir])\n",
    "\n",
    "        data_transformation_config = DataTransformationConfig(\n",
    "            root_dir=config.root_dir,\n",
    "            data_path=config.data_path,\n",
    "        )\n",
    "\n",
    "        return data_transformation_config"
   ]
  },
  {
   "cell_type": "code",
   "execution_count": 7,
   "metadata": {},
   "outputs": [],
   "source": [
    "import os\n",
    "from Cardiovascular_Disease import logger\n",
    "from sklearn.preprocessing import LabelEncoder\n",
    "from sklearn.preprocessing import MinMaxScaler,StandardScaler\n",
    "from sklearn.model_selection import train_test_split\n",
    "import pandas as pd\n",
    "import joblib"
   ]
  },
  {
   "cell_type": "code",
   "execution_count": null,
   "metadata": {},
   "outputs": [],
   "source": []
  },
  {
   "cell_type": "code",
   "execution_count": 10,
   "metadata": {},
   "outputs": [],
   "source": [
    "class DataTransformation:\n",
    "    def __init__(self, config: DataTransformationConfig):\n",
    "        self.config = config\n",
    "        \n",
    "        \n",
    "\n",
    "    def label_encode(self):\n",
    "        label_encoders = {}\n",
    "        data = pd.read_csv(self.config.data_path)\n",
    "        for col in ['Sex', 'ChestPainType', 'RestingECG', 'ExerciseAngina', 'ST_Slope']:\n",
    "                le = LabelEncoder()\n",
    "                data[col] = le.fit_transform(data[col])\n",
    "                label_encoders[col] = le\n",
    "        logger.info(\"Label encoding completed.\")\n",
    "        joblib.dump(label_encoders, 'label_encoders.pkl')\n",
    "        return data  \n",
    " \n",
    "    \n",
    "    def scale(self,data):\n",
    "        scalers = {}\n",
    "        mms = MinMaxScaler() # Normalization\n",
    "        data['Oldpeak'] = mms.fit_transform(data[['Oldpeak']])\n",
    "        scalers['Oldpeak'] = mms\n",
    "\n",
    "        ss_age = StandardScaler()\n",
    "        data['Age'] = ss_age.fit_transform(data[['Age']])\n",
    "        scalers['Age'] = ss_age  \n",
    "\n",
    "        ss_restingbp = StandardScaler()\n",
    "        data['RestingBP'] = ss_restingbp.fit_transform(data[['RestingBP']])\n",
    "        scalers['RestingBP'] = ss_restingbp  \n",
    "\n",
    "        ss_cholesterol = StandardScaler()\n",
    "        data['Cholesterol'] = ss_cholesterol.fit_transform(data[['Cholesterol']])\n",
    "        scalers['Cholesterol'] = ss_cholesterol  \n",
    "\n",
    "        ss_maxhr = StandardScaler()\n",
    "        data['MaxHR'] = ss_maxhr.fit_transform(data[['MaxHR']])\n",
    "        scalers['MaxHR'] = ss_maxhr  \n",
    "\n",
    "        logger.info(\"Scaling completed.\")\n",
    "\n",
    "        \n",
    "        joblib.dump(scalers, 'scalers.pkl')\n",
    "        return data \n",
    "\n",
    "\n",
    "    def feature_engineering(self,data):\n",
    "         features = data[data.columns.drop(['HeartDisease','RestingBP','RestingECG'])].values\n",
    "         target = data['HeartDisease'].values\n",
    "         \n",
    "\n",
    "\n",
    "\n",
    "    def train_test_spliting(self,data):\n",
    "        \n",
    "\n",
    "        \n",
    "        train, test = train_test_split(data)\n",
    "\n",
    "        train.to_csv(os.path.join(self.config.root_dir, \"train.csv\"),index = False)\n",
    "        test.to_csv(os.path.join(self.config.root_dir, \"test.csv\"),index = False)\n",
    "\n",
    "        logger.info(\"Splited data into training and test sets\")\n",
    "        logger.info(train.shape)\n",
    "        logger.info(test.shape)\n",
    "\n",
    "        print(train.shape)\n",
    "        print(test.shape)"
   ]
  },
  {
   "cell_type": "code",
   "execution_count": 11,
   "metadata": {},
   "outputs": [
    {
     "name": "stdout",
     "output_type": "stream",
     "text": [
      "[2024-10-30 20:24:43,060: INFO: common: yaml file: config\\config.yaml loaded successfully]\n",
      "[2024-10-30 20:24:43,304: INFO: common: yaml file: params.yaml loaded successfully]\n",
      "[2024-10-30 20:24:43,309: INFO: common: yaml file: schema.yaml loaded successfully]\n",
      "[2024-10-30 20:24:43,347: INFO: common: created directory at: artifacts]\n",
      "[2024-10-30 20:24:43,356: INFO: common: created directory at: artifacts/data_transformation]\n",
      "[2024-10-30 20:24:43,771: INFO: 436521754: Label encoding completed.]\n",
      "[2024-10-30 20:24:43,851: INFO: 436521754: Scaling completed.]\n",
      "[2024-10-30 20:24:44,149: INFO: 436521754: Splited data into training and test sets]\n",
      "[2024-10-30 20:24:44,151: INFO: 436521754: (688, 12)]\n",
      "[2024-10-30 20:24:44,152: INFO: 436521754: (230, 12)]\n",
      "(688, 12)\n",
      "(230, 12)\n"
     ]
    }
   ],
   "source": [
    "try:\n",
    "    config = ConfigurationManager()\n",
    "    data_transformation_config = config.get_data_transformation_config()\n",
    "    data_transformation = DataTransformation(config=data_transformation_config)\n",
    "    encoded_data = data_transformation.label_encode()\n",
    "    scaled_data = data_transformation.scale(encoded_data)\n",
    "    data_transformation.train_test_spliting(scaled_data)\n",
    "except Exception as e:\n",
    "    raise e"
   ]
  }
 ],
 "metadata": {
  "kernelspec": {
   "display_name": "cardio",
   "language": "python",
   "name": "python3"
  },
  "language_info": {
   "codemirror_mode": {
    "name": "ipython",
    "version": 3
   },
   "file_extension": ".py",
   "mimetype": "text/x-python",
   "name": "python",
   "nbconvert_exporter": "python",
   "pygments_lexer": "ipython3",
   "version": "3.12.7"
  }
 },
 "nbformat": 4,
 "nbformat_minor": 2
}
