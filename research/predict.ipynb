{
 "cells": [
  {
   "cell_type": "code",
   "execution_count": 62,
   "metadata": {},
   "outputs": [],
   "source": [
    "import os"
   ]
  },
  {
   "cell_type": "code",
   "execution_count": 64,
   "metadata": {},
   "outputs": [],
   "source": []
  },
  {
   "cell_type": "code",
   "execution_count": 65,
   "metadata": {},
   "outputs": [
    {
     "data": {
      "text/plain": [
       "'c:\\\\Users\\\\youne\\\\OneDrive\\\\Desktop'"
      ]
     },
     "execution_count": 65,
     "metadata": {},
     "output_type": "execute_result"
    }
   ],
   "source": [
    "%pwd"
   ]
  },
  {
   "cell_type": "code",
   "execution_count": 26,
   "metadata": {},
   "outputs": [],
   "source": [
    "import os\n",
    "from Cardiovascular_Disease import logger\n",
    "from sklearn.preprocessing import LabelEncoder\n",
    "from sklearn.preprocessing import MinMaxScaler,StandardScaler\n",
    "from Cardiovascular_Disease.utils.common import DataPreprocessing\n",
    "import pandas as pd"
   ]
  },
  {
   "cell_type": "code",
   "execution_count": 58,
   "metadata": {},
   "outputs": [
    {
     "name": "stdout",
     "output_type": "stream",
     "text": [
      "   Age Sex ChestPainType  RestingBP  Cholesterol  FastingBS RestingECG  MaxHR  \\\n",
      "0   40   M           ATA        140          289          0     Normal    172   \n",
      "\n",
      "  ExerciseAngina  Oldpeak ST_Slope  \n",
      "0              N        0       Up  \n",
      "[[-1.4331398   1.          1.          0.41090889  0.82507026  0.\n",
      "   1.          1.38292822  0.          0.29545455  2.        ]]\n",
      "[0]\n"
     ]
    },
    {
     "name": "stderr",
     "output_type": "stream",
     "text": [
      "C:\\Users\\youne\\AppData\\Roaming\\Python\\Python312\\site-packages\\sklearn\\base.py:493: UserWarning: X does not have valid feature names, but LogisticRegression was fitted with feature names\n",
      "  warnings.warn(\n"
     ]
    }
   ],
   "source": [
    "import numpy as np\n",
    "import pandas as pd\n",
    "\n",
    "\n",
    "Age = 40\n",
    "Sex = 'M'\n",
    "ChestPainType = 'ATA' \n",
    "RestingBP = 140\n",
    "Cholesterol = 289\n",
    "FastingBS = 0  \n",
    "RestingECG = 'Normal'  \n",
    "MaxHR = 172\n",
    "ExerciseAngina = 'N' \n",
    "Oldpeak = 0\n",
    "ST_Slope = 'Up'\n",
    "\n",
    "\n",
    "data_dict = {\n",
    "    'Age': [Age],\n",
    "    'Sex': [Sex],\n",
    "    'ChestPainType': [ChestPainType],\n",
    "    'RestingBP': [RestingBP],\n",
    "    'Cholesterol': [Cholesterol],\n",
    "    'FastingBS': [FastingBS],\n",
    "    'RestingECG': [RestingECG],\n",
    "    'MaxHR': [MaxHR],\n",
    "    'ExerciseAngina': [ExerciseAngina],\n",
    "    'Oldpeak': [Oldpeak],\n",
    "    'ST_Slope': [ST_Slope]\n",
    "}\n",
    "\n",
    "\n",
    "data_df = pd.DataFrame(data_dict)\n",
    "print(data_df)  \n",
    "\n",
    "\n",
    "  \n",
    "\n",
    "preprocessor = DataPreprocessing()\n",
    "data_encoded = preprocessor.label_encode(data_df)\n",
    "data_scaled = preprocessor.scale(data_encoded)\n",
    "\n",
    "data_array = data_scaled.values\n",
    "print(data_array)\n",
    "obj = PredictionPipeline()\n",
    "predict = obj.predict(data_array)  # Pass the correctly formatted data\n",
    "print(predict)  # Print the prediction results\n"
   ]
  }
 ],
 "metadata": {
  "kernelspec": {
   "display_name": "cardio",
   "language": "python",
   "name": "python3"
  },
  "language_info": {
   "codemirror_mode": {
    "name": "ipython",
    "version": 3
   },
   "file_extension": ".py",
   "mimetype": "text/x-python",
   "name": "python",
   "nbconvert_exporter": "python",
   "pygments_lexer": "ipython3",
   "version": "3.12.7"
  }
 },
 "nbformat": 4,
 "nbformat_minor": 2
}
